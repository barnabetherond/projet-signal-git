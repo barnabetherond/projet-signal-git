{
 "cells": [
  {
   "cell_type": "markdown",
   "id": "25aa4cfa-1304-4a0f-8d27-132508a7d051",
   "metadata": {},
   "source": [
    "$\n",
    "Nous\n",
    "$"
   ]
  }
 ],
 "metadata": {
  "kernelspec": {
   "display_name": "Python 3 (ipykernel)",
   "language": "python",
   "name": "python3"
  },
  "language_info": {
   "codemirror_mode": {
    "name": "ipython",
    "version": 3
   },
   "file_extension": ".py",
   "mimetype": "text/x-python",
   "name": "python",
   "nbconvert_exporter": "python",
   "pygments_lexer": "ipython3",
   "version": "3.12.4"
  }
 },
 "nbformat": 4,
 "nbformat_minor": 5
}
